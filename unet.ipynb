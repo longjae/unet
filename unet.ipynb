{
 "cells": [
  {
   "cell_type": "code",
   "execution_count": 11,
   "metadata": {},
   "outputs": [],
   "source": [
    "import numpy as np\n",
    "import torch\n",
    "from PIL import Image\n",
    "from torch.utils.data import Dataset\n",
    "from os import listdir\n",
    "from os.path import splitext, isfile, join\n",
    "from pathlib import Path\n",
    "from tqdm import tqdm\n",
    "from multiprocessing import Pool\n",
    "import logging\n",
    "from functools import lru_cache, partial\n",
    "import matplotlib.pyplot as plt"
   ]
  },
  {
   "cell_type": "code",
   "execution_count": 3,
   "metadata": {},
   "outputs": [],
   "source": [
    "def load_image(filename):\n",
    "    ext = splitext(filename)[1]\n",
    "    if ext == \".npy\":\n",
    "        return Image.fromarray(np.load(filename))\n",
    "    elif ext in [\".pt\", \".pth\"]:\n",
    "        return Image.fromarray(torch.load(filename).numpy())\n",
    "    else:\n",
    "        return Image.open(filename)"
   ]
  },
  {
   "cell_type": "code",
   "execution_count": 4,
   "metadata": {},
   "outputs": [],
   "source": [
    "def unique_mask_values(idx, mask_dir, mask_suffix):\n",
    "    mask_file = list(mask_dir.glob(idx + mask_suffix + \".*\"))[0]\n",
    "    mask = np.asarray(load_image(mask_file))\n",
    "    if mask.ndim == 2:\n",
    "        return np.unique(mask)\n",
    "    elif mask.ndim == 3:\n",
    "        mask = mask.reshape(-1, mask.shape[-1])\n",
    "        return np.unique(mask, axis=0)\n",
    "    else:\n",
    "        raise ValueError(f\"Loaded masks should have 2 or 3 dimensions, found {mask.ndim}\")"
   ]
  },
  {
   "cell_type": "code",
   "execution_count": 6,
   "metadata": {},
   "outputs": [],
   "source": [
    "class BasicDataset(Dataset):\n",
    "    def __init__(self, images_dir, mask_dir: str, scale: float=1.0, mask_suffix: str=\"\"):\n",
    "        self.images_dir = Path(images_dir)\n",
    "        self.mask_dir = Path(mask_dir)\n",
    "        assert 0 < scale <= 1, \"Scale must be between 0 and 1\"\n",
    "        self.scale = scale\n",
    "        self.mask_suffix = mask_suffix\n",
    "        \n",
    "        self.ids = [splitext(file)[0] for file in listdir(images_dir) if isfile(join(images_dir, file)) and not file.startswith(\"_\")]\n",
    "        if not self.ids:\n",
    "            raise RuntimeError(f\"No input file found in {images_dir}, make sure you put youre images there\")\n",
    "        \n",
    "        logging.info(f\"Creating dateset with {len(self.ids)} examples\")\n",
    "        logging.info(\"Scanning mask files to determine unique values\")\n",
    "        \n",
    "        with Pool() as p:\n",
    "            unique = list(tqdm(\n",
    "                p.imap(partial(unique_mask_values, mask_dir=self.mask_dir, mask_suffix=self.mask_suffix), self.ids),\n",
    "                total=len(self.ids)\n",
    "            ))\n",
    "        self.mask_values = list(sorted(np.unique(np.concatenate(unique), axis=0).tolist()))\n",
    "        logging.info(f\"Unique mask values: {self.mask_values}\")"
   ]
  },
  {
   "cell_type": "code",
   "execution_count": 7,
   "metadata": {},
   "outputs": [],
   "source": [
    "def __len__(self):\n",
    "    return len(self.ids)"
   ]
  },
  {
   "cell_type": "code",
   "execution_count": 8,
   "metadata": {},
   "outputs": [],
   "source": [
    "@staticmethod\n",
    "def preprocess(mask_values, pil_img, scale, is_mask):\n",
    "    w, h = pil_img.size\n",
    "    newW, newH = int(scale * w), int(scale * h)\n",
    "    assert newW > 0 and newH > 0, \"Scale is too small, resized images would have no pixel\"\n",
    "    pil_img = pil_img.resize((newW, newH), resample=Image.NEAREST if is_mask else Image.BICUBIC)\n",
    "    img = np.asarray(pil_img)\n",
    "    \n",
    "    if is_mask:\n",
    "        mask = np.zeros((newH, newW), dtype=np.int64)\n",
    "        for i, v in enumerate(mask_values):\n",
    "            if img.ndim == 2:\n",
    "                mask[img == v] == i\n",
    "            else:\n",
    "                mask[(img == v).all(-1)] == i\n",
    "        return mask\n",
    "    else:\n",
    "        if img.ndim == 2:\n",
    "            img = img[np.newaxis, ...]\n",
    "        else:\n",
    "            img = img.transpose((2, 0, 1))\n",
    "        if (img > 1).any():\n",
    "            img = img / 255.0\n",
    "        return img"
   ]
  },
  {
   "cell_type": "code",
   "execution_count": 9,
   "metadata": {},
   "outputs": [],
   "source": [
    "def __getitem__(self, idx):\n",
    "        name = self.ids[idx]\n",
    "        mask_file = list(self.mask_dir.glob(name + self.mask_suffix + '.*'))\n",
    "        img_file = list(self.images_dir.glob(name + '.*'))\n",
    "\n",
    "        assert len(img_file) == 1, f'Either no image or multiple images found for the ID {name}: {img_file}'\n",
    "        assert len(mask_file) == 1, f'Either no mask or multiple masks found for the ID {name}: {mask_file}'\n",
    "        mask = load_image(mask_file[0])\n",
    "        img = load_image(img_file[0])\n",
    "\n",
    "        assert img.size == mask.size, \\\n",
    "            f'Image and mask {name} should be the same size, but are {img.size} and {mask.size}'\n",
    "\n",
    "        img = self.preprocess(self.mask_values, img, self.scale, is_mask=False)\n",
    "        mask = self.preprocess(self.mask_values, mask, self.scale, is_mask=True)\n",
    "\n",
    "        return {\n",
    "            'image': torch.as_tensor(img.copy()).float().contiguous(),\n",
    "            'mask': torch.as_tensor(mask.copy()).long().contiguous()\n",
    "        }"
   ]
  },
  {
   "cell_type": "code",
   "execution_count": 10,
   "metadata": {},
   "outputs": [],
   "source": [
    "class CarvanaDataset(BasicDataset):\n",
    "    def __init__(self, images_dir, mask_dir, scale=1):\n",
    "        super().__init__(images_dir, mask_dir, scale, mask_suffix=\"_mask\")"
   ]
  },
  {
   "cell_type": "code",
   "execution_count": 12,
   "metadata": {},
   "outputs": [],
   "source": [
    "def plot_img_and_mask(img, mask):\n",
    "    classes = mask.max() + 1\n",
    "    fig, ax = plt.subplots(1, classes+1)\n",
    "    ax[0].set_title(\"Input Image\")\n",
    "    ax[0].imshow(img)\n",
    "    for i in range(classes):\n",
    "        ax[i+1].set_title(f\"Mask (class {i+1})\")\n",
    "        ax[i+1].imshow(mask==i)\n",
    "    plt.xticks([]), plt.yticks([])\n",
    "    plt.show()"
   ]
  },
  {
   "cell_type": "code",
   "execution_count": null,
   "metadata": {},
   "outputs": [],
   "source": []
  }
 ],
 "metadata": {
  "kernelspec": {
   "display_name": "unet_venv",
   "language": "python",
   "name": "python3"
  },
  "language_info": {
   "codemirror_mode": {
    "name": "ipython",
    "version": 3
   },
   "file_extension": ".py",
   "mimetype": "text/x-python",
   "name": "python",
   "nbconvert_exporter": "python",
   "pygments_lexer": "ipython3",
   "version": "3.10.8"
  },
  "orig_nbformat": 4,
  "vscode": {
   "interpreter": {
    "hash": "38b908b46e33c18c623c89480c9cb19b5132d4d896d5748dfccb493762a4a760"
   }
  }
 },
 "nbformat": 4,
 "nbformat_minor": 2
}
